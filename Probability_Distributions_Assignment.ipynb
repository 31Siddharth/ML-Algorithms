{
 "cells": [
  {
   "cell_type": "code",
   "execution_count": 29,
   "id": "b552162e",
   "metadata": {},
   "outputs": [],
   "source": [
    "'''You have an unfair coin with p(H) = p. You toss the coin n times and note the number of heads obtained. \n",
    "What is the probability that the number of heads would be an even number? '''\n",
    "import random\n",
    "def coin_toss():\n",
    "    if random.random() <= 0.5:\n",
    "        return 0\n",
    "    return 1\n",
    "\n",
    "def probability(n,p):\n",
    "    heads = 0\n",
    "    for i in range(n):\n",
    "        if coin_toss() == 1:\n",
    "            heads += 1\n",
    "    return heads\n",
    "\n",
    "#n - no of coint tosses at each trial of experiment , p = probabilty of heads , experiment is performed 10 times\n",
    "def experiment(n,p):\n",
    "    heads = 0\n",
    "    toss = [] #contains no of heads in n coin tosses\n",
    "    phe = 0\n",
    "    for i in range(10):\n",
    "        heads = probability(n,p)\n",
    "        toss.append(heads)\n",
    "        if(heads%2==0):\n",
    "            phe += 1\n",
    "    print(toss)\n",
    "    return phe/10"
   ]
  },
  {
   "cell_type": "code",
   "execution_count": 30,
   "id": "16d75afd",
   "metadata": {},
   "outputs": [
    {
     "name": "stdout",
     "output_type": "stream",
     "text": [
      "[54, 52, 39, 57, 51, 42, 40, 48, 53, 53]\n"
     ]
    },
    {
     "data": {
      "text/plain": [
       "0.5"
      ]
     },
     "execution_count": 30,
     "metadata": {},
     "output_type": "execute_result"
    }
   ],
   "source": [
    "experiment(100,0.7)"
   ]
  },
  {
   "cell_type": "code",
   "execution_count": 31,
   "id": "c6e6d79a",
   "metadata": {},
   "outputs": [],
   "source": [
    "# pn = (1+(1-2p)**n)/2\n",
    "# pn = probability of getting even heads after n coint tosses , p = probabilty of getting a head\n",
    "\n",
    "def exact_probabilty(n,p):\n",
    "    return (1+(1-2*p)**n)/2"
   ]
  },
  {
   "cell_type": "code",
   "execution_count": 32,
   "id": "99195a3e",
   "metadata": {},
   "outputs": [
    {
     "data": {
      "text/plain": [
       "0.5"
      ]
     },
     "execution_count": 32,
     "metadata": {},
     "output_type": "execute_result"
    }
   ],
   "source": [
    "exact_probabilty(100,0.7)"
   ]
  },
  {
   "cell_type": "code",
   "execution_count": 38,
   "id": "4c1ed315",
   "metadata": {},
   "outputs": [],
   "source": [
    "#dp approach\n",
    "#p(H) = p, p(T) = 1-p\n",
    "#p(n) - probabilty of getting even number of heads in n tosses\n",
    "#p(n) = p(H)*p(En|H) + p(T)*p(En|T) = p(H) * (1- p(n-1)) + p(T) * (p(n-1)) = p + p(n-1) * (1-2p)\n",
    "#p(0) = 1, p(1) = p+p(0)*(1-2p) = 1-p, p(2) = p+p(1)(1-2p)\n",
    "#p(n-1) - probabilty of getting even heads in n-1 tosses\n",
    "# 1- p(n-1) - probabilty of not getting even heads in n-1 tosses\n",
    "\n",
    "def calc_probability(n,p):\n",
    "    prob = {}\n",
    "    prob[0] = 1 # we get 0 heads \n",
    "    prob[1] = 1-p\n",
    "    \n",
    "    if n in (0,1):\n",
    "        return prob[n]\n",
    "    \n",
    "    for i in range (2,n+1):\n",
    "        prob[i] = p + prob[i-1] * (1- (2 * p))\n",
    "        \n",
    "    return prob[n]"
   ]
  },
  {
   "cell_type": "code",
   "execution_count": 39,
   "id": "890b512a",
   "metadata": {},
   "outputs": [
    {
     "data": {
      "text/plain": [
       "0.5"
      ]
     },
     "execution_count": 39,
     "metadata": {},
     "output_type": "execute_result"
    }
   ],
   "source": [
    "calc_probability(100,0.7)"
   ]
  },
  {
   "cell_type": "code",
   "execution_count": 1,
   "id": "e0110499",
   "metadata": {},
   "outputs": [
    {
     "data": {
      "image/png": "[encoded data removed]",
      "text/plain": [
       "<Figure size 640x480 with 3 Axes>"
      ]
     },
     "metadata": {},
     "output_type": "display_data"
    }
   ],
   "source": [
    "'''Generate 2 normal random variables, X~N(1,9) & Y~N(9,16) in Python. Then add X and Y to get Z. \n",
    "What is the distribution of Z? What does Z look like after plotting? Does the plot support theory?'''\n",
    "import matplotlib.pyplot as plt\n",
    "import numpy as np\n",
    "x = np.random.normal(1,3,10000)\n",
    "plt.subplot(1,3,1)\n",
    "plt.xlabel('X')\n",
    "plt.ylabel('Probability')\n",
    "plt.hist(x, bins = 1000)\n",
    "\n",
    "y = np.random.normal(3,4,10000)\n",
    "plt.subplot(1,3,2)\n",
    "plt.xlabel('Y')\n",
    "plt.ylabel('Probability')\n",
    "plt.hist(y, bins = 1000)\n",
    "\n",
    "z= x+y\n",
    "plt.subplot(1,3,3)\n",
    "plt.xlabel('Z')\n",
    "plt.ylabel('Probability')\n",
    "plt.hist(z, bins = 1000)\n",
    "plt.show()"
   ]
  },
  {
   "cell_type": "code",
   "execution_count": 42,
   "id": "eedd56bc",
   "metadata": {},
   "outputs": [],
   "source": [
    "'''A game of dice is begun by rolling an ordinary pair of dice. If the sum of the dice is 2, 3, or 12, \n",
    "the player loses. If it is 7 or 11, the player wins. If it is any other number i, the player continues to roll the \n",
    "dice until the sum is either 7 or i. If it is 7, the player loses; if it is i, the player wins. \n",
    "Let R denote the number of rolls of the dice in a game of craps. Find:\n",
    "E[R]\n",
    "E[R|player wins]\n",
    "E[R|player loses]'''\n",
    "\n",
    "import numpy as np\n",
    "def dice_roll():\n",
    "  dice1 = np.random.randint(1,7)\n",
    "  dice2 = np.random.randint(1,7)\n",
    "  return dice1+dice2\n",
    "\n",
    "def trial():\n",
    "    dice_rolls = []\n",
    "    roll = dice_roll()\n",
    "    #dice_rolls.append(roll)\n",
    "    #result = (no of rolls, win = 1/ loss = 0)\n",
    "    result = [1,0]\n",
    "    if roll in [2,3,12]:\n",
    "        #print('Loss ' + str(dice_rolls))\n",
    "        return [1,0]\n",
    "    elif roll in [7,11]:\n",
    "        #print('Win ' + str(dice_rolls))\n",
    "        return [1,1]\n",
    "    else:\n",
    "        i = dice_roll()\n",
    "        result[0] += 1\n",
    "        #dice_rolls.append(i)\n",
    "        while (i != roll and i != 7):\n",
    "            i = dice_roll()\n",
    "            result[0] += 1\n",
    "            #dice_rolls.append(i)\n",
    "        if i == 7:\n",
    "            result[1] = 0\n",
    "        elif i == roll:\n",
    "            result[1] = 1\n",
    "        #print(dice_rolls)\n",
    "        return result\n",
    "    \n",
    "def experiment(n):\n",
    "    wins = losses = win_rolls = loss_rolls = 0\n",
    "    for i in range(n):\n",
    "        result = trial()\n",
    "        if result[1] == 0:\n",
    "            loss_rolls += result[0]\n",
    "            losses += 1\n",
    "        elif result[1] == 1:\n",
    "            win_rolls += result[0]\n",
    "            wins += 1\n",
    "    #E(R) = E(Rolls|Player Wins) * P(Win) + E(Rolls|Player Loses) * P(Loss)\n",
    "    return (loss_rolls * (losses / n) + win_rolls * (wins / n))"
   ]
  },
  {
   "cell_type": "code",
   "execution_count": 80,
   "id": "2e392084",
   "metadata": {},
   "outputs": [],
   "source": [
    "'''Mark was the first to arrive at a 100-seat theatre. He forgot his seat number and picked a random seat for himself. \n",
    "After this, every single person who gets to the theatre sits on his/her seat if it is available, and chooses any \n",
    "available seat at random. John was last to enter the theatre and 99 seats were occupied. \n",
    "What's the probability that John gets to sit in his own seat? Can we write a simulation to verify the result?'''\n",
    "\n",
    "import numpy as np\n",
    "def simulation(seats,niter):\n",
    "    counter = 0\n",
    "    for i in range(niter):\n",
    "        #unoccupied seats\n",
    "        seat_occupied = [False] * seats\n",
    "        #rabdomly selected seat by mark\n",
    "        random_seat = np.random.randint(0,seats)\n",
    "        seat_occupied[random_seat] = True\n",
    "        for i in range(seats-2):\n",
    "            if seat_occupied[i] is False :\n",
    "                seat_occupied[i] = True\n",
    "            else:\n",
    "                unoccupied_seats = [i[0] for i in enumerate(seat_occupied) if i[1] is False]\n",
    "                random_seat = np.random.choice(unoccupied_seats)\n",
    "                seat_occupied[random_seat] = True\n",
    "        if not seat_occupied[-1]:\n",
    "            counter += 1\n",
    "    return counter/niter  "
   ]
  },
  {
   "cell_type": "code",
   "execution_count": 92,
   "id": "7394f0ba",
   "metadata": {},
   "outputs": [
    {
     "data": {
      "text/plain": [
       "0.494"
      ]
     },
     "execution_count": 92,
     "metadata": {},
     "output_type": "execute_result"
    }
   ],
   "source": [
    "simulation(100, 10000)"
   ]
  }
 ],
 "metadata": {
  "kernelspec": {
   "display_name": "Python 3 (ipykernel)",
   "language": "python",
   "name": "python3"
  },
  "language_info": {
   "codemirror_mode": {
    "name": "ipython",
    "version": 3
   },
   "file_extension": ".py",
   "mimetype": "text/x-python",
   "name": "python",
   "nbconvert_exporter": "python",
   "pygments_lexer": "ipython3",
   "version": "3.11.4"
  }
 },
 "nbformat": 4,
 "nbformat_minor": 5
}
